{
 "cells": [
  {
   "cell_type": "code",
   "execution_count": 1,
   "metadata": {},
   "outputs": [
    {
     "data": {
      "text/plain": [
       "True"
      ]
     },
     "execution_count": 1,
     "metadata": {},
     "output_type": "execute_result"
    }
   ],
   "source": [
    "from dotenv import load_dotenv\n",
    "\n",
    "load_dotenv()"
   ]
  },
  {
   "cell_type": "code",
   "execution_count": 2,
   "metadata": {},
   "outputs": [
    {
     "name": "stdout",
     "output_type": "stream",
     "text": [
      "\n",
      "\n",
      "\"La Dolce Vita Trattoria\"\n"
     ]
    }
   ],
   "source": [
    "from langchain_openai import OpenAI\n",
    "\n",
    "llm = OpenAI(temperature=0.6)\n",
    "name = llm.invoke(\"I want to open a restaurant for Italian food. Suggest a fancy name for this.\")\n",
    "print(name)"
   ]
  },
  {
   "cell_type": "code",
   "execution_count": 3,
   "metadata": {},
   "outputs": [
    {
     "data": {
      "text/plain": [
       "'I want to open a restaurant for French food. Suggest a fancy name for this.'"
      ]
     },
     "execution_count": 3,
     "metadata": {},
     "output_type": "execute_result"
    }
   ],
   "source": [
    "from langchain.prompts import PromptTemplate\n",
    "\n",
    "prompt_restaurant_name = PromptTemplate(\n",
    "    input_variables=['cuisine'],\n",
    "    template=\"I want to open a restaurant for {cuisine} food. Suggest a fancy name for this.\"\n",
    ")\n",
    "\n",
    "prompt_restaurant_name.format(cuisine='French')"
   ]
  },
  {
   "cell_type": "code",
   "execution_count": 4,
   "metadata": {},
   "outputs": [],
   "source": [
    "from langchain.chains import LLMChain\n",
    "\n",
    "name_chain = LLMChain(llm=llm, prompt=prompt_restaurant_name)"
   ]
  },
  {
   "cell_type": "code",
   "execution_count": 5,
   "metadata": {},
   "outputs": [],
   "source": [
    "prompt_menu_items = PromptTemplate(\n",
    "    input_variables=['restaurant_name'],\n",
    "    template=\"Suggest some menu items for {restaurant_name}. Return it as a comma separated list.\"\n",
    ")\n",
    "menu_items_chain = LLMChain(llm=llm, prompt=prompt_menu_items)"
   ]
  },
  {
   "cell_type": "code",
   "execution_count": 6,
   "metadata": {},
   "outputs": [
    {
     "name": "stdout",
     "output_type": "stream",
     "text": [
      "{'input': 'French', 'output': \"\\n\\nLa Belle Cuisine:\\n1. Coq au vin\\n2. Beef bourguignon\\n3. Ratatouille\\n4. Escargots\\n5. Bouillabaisse\\n6. Croque monsieur\\n7. Quiche Lorraine\\n8. Steak frites\\n9. Salade niçoise\\n10. Crème brûlée\\n\\nLe Petit Bistro:\\n1. Boeuf bourguignon sandwich\\n2. Croque madame\\n3. Salade lyonnaise\\n4. Moules frites\\n5. Quiche du jour\\n6. Cassoulet\\n7. Poulet rôti\\n8. Tarte tatin\\n9. Soupe à l'oignon gratinée\\n10. Profiteroles au chocolat\"}\n"
     ]
    }
   ],
   "source": [
    "from langchain.chains import SimpleSequentialChain\n",
    "\n",
    "sim_seq_chain = SimpleSequentialChain(chains=[name_chain, menu_items_chain])\n",
    "response = sim_seq_chain.invoke(\"French\")\n",
    "print(response)"
   ]
  },
  {
   "cell_type": "code",
   "execution_count": 7,
   "metadata": {},
   "outputs": [],
   "source": [
    "from langchain.chains import SequentialChain\n",
    "\n",
    "name_chain = LLMChain(llm=llm, prompt=prompt_restaurant_name, output_key=\"restaurant_name\")\n",
    "menu_items_chain = LLMChain(llm=llm, prompt=prompt_menu_items, output_key=\"menu_items\")\n",
    "seq_chain = SequentialChain(\n",
    "    chains=[name_chain, menu_items_chain],\n",
    "    input_variables=['cuisine'],\n",
    "    output_variables=['restaurant_name', 'menu_items']\n",
    ")"
   ]
  },
  {
   "cell_type": "code",
   "execution_count": 8,
   "metadata": {},
   "outputs": [
    {
     "data": {
      "text/plain": [
       "{'cuisine': 'Italian',\n",
       " 'restaurant_name': '\\n\\n\"Presto Italiano\"',\n",
       " 'menu_items': '\\n\\n1. Margherita pizza\\n2. Fettuccine Alfredo\\n3. Chicken Parmigiana\\n4. Lasagna\\n5. Spaghetti Bolognese\\n6. Caprese salad\\n7. Cannelloni\\n8. Garlic bread\\n9. Tiramisu\\n10. Gelato\\n11. Bruschetta\\n12. Ravioli\\n13. Penne Arrabiata\\n14. Calamari Fritti\\n15. Eggplant Parmigiana'}"
      ]
     },
     "execution_count": 8,
     "metadata": {},
     "output_type": "execute_result"
    }
   ],
   "source": [
    "seq_chain.invoke({'cuisine': 'Italian'})"
   ]
  },
  {
   "cell_type": "code",
   "execution_count": null,
   "metadata": {},
   "outputs": [],
   "source": []
  }
 ],
 "metadata": {
  "kernelspec": {
   "display_name": ".venv",
   "language": "python",
   "name": "python3"
  },
  "language_info": {
   "codemirror_mode": {
    "name": "ipython",
    "version": 3
   },
   "file_extension": ".py",
   "mimetype": "text/x-python",
   "name": "python",
   "nbconvert_exporter": "python",
   "pygments_lexer": "ipython3",
   "version": "3.11.7"
  }
 },
 "nbformat": 4,
 "nbformat_minor": 2
}
